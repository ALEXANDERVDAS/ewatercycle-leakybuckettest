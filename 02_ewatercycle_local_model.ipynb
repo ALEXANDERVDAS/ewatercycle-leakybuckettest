{
 "cells": [
  {
   "cell_type": "code",
   "execution_count": 1,
   "metadata": {},
   "outputs": [
    {
     "name": "stderr",
     "output_type": "stream",
     "text": [
      "hwloc/linux: Ignoring PCI device with non-16bit domain.\n",
      "Pass --enable-32bits-pci-domain to configure to support such devices\n",
      "(warning: it would break the library ABI, don't enable unless really needed).\n",
      "/home/bart/micromamba/envs/ewatercycle/lib/python3.10/site-packages/esmvalcore/experimental/_warnings.py:13: UserWarning: \n",
      "  Thank you for trying out the new ESMValCore API.\n",
      "  Note that this API is experimental and may be subject to change.\n",
      "  More info: https://github.com/ESMValGroup/ESMValCore/issues/498\n",
      "WARNING:esmvalcore.config._dask:Using the Dask basic scheduler. This may lead to slow computations and out-of-memory errors. Note that the basic scheduler may still be the best choice for preprocessor functions that are not lazy. In that case, you can safely ignore this warning. See https://docs.esmvaltool.org/projects/ESMValCore/en/latest/quickstart/configure.html#dask-distributed-configuration for more information. \n"
     ]
    }
   ],
   "source": [
    "from leakybucket.ewatercycle_models import LocalLeakyBucket\n",
    "from ewatercycle.base.forcing import GenericLumpedForcing\n",
    "import ewatercycle\n",
    "from pathlib import Path\n",
    "import numpy as np\n",
    "\n",
    "shape = Path(ewatercycle.__file__).parent / \"testing/data/Rhine/Rhine.shp\"\n",
    "\n",
    "cmip_dataset = {\n",
    "    \"dataset\": \"EC-Earth3\",\n",
    "    \"project\": \"CMIP6\",\n",
    "    \"grid\": \"gr\",\n",
    "    \"exp\": [\"historical\",],\n",
    "    \"ensemble\": \"r6i1p1f1\",\n",
    "}\n",
    "\n",
    "forcing = GenericLumpedForcing.generate(\n",
    "    dataset=cmip_dataset,\n",
    "    start_time=\"2000-01-01T00:00:00Z\",\n",
    "    end_time=\"2000-12-31T00:00:00Z\",\n",
    "    shape=shape.absolute(),\n",
    ")"
   ]
  },
  {
   "cell_type": "code",
   "execution_count": 2,
   "metadata": {},
   "outputs": [],
   "source": [
    "model = LocalLeakyBucket(forcing=forcing)"
   ]
  },
  {
   "cell_type": "code",
   "execution_count": 3,
   "metadata": {},
   "outputs": [],
   "source": [
    "cfg_file,_ = model.setup(leakiness=0.05)"
   ]
  },
  {
   "cell_type": "code",
   "execution_count": 4,
   "metadata": {},
   "outputs": [],
   "source": [
    "model.initialize(cfg_file)"
   ]
  },
  {
   "cell_type": "code",
   "execution_count": 5,
   "metadata": {},
   "outputs": [],
   "source": [
    "model.update()"
   ]
  },
  {
   "cell_type": "code",
   "execution_count": 6,
   "metadata": {},
   "outputs": [],
   "source": [
    "model.set_value(\"storage\", np.array([0.]))"
   ]
  },
  {
   "cell_type": "code",
   "execution_count": 7,
   "metadata": {},
   "outputs": [
    {
     "ename": "TypeError",
     "evalue": "LeakyBucketLumpedBmi.get_value() takes 2 positional arguments but 3 were given",
     "output_type": "error",
     "traceback": [
      "\u001b[0;31m---------------------------------------------------------------------------\u001b[0m",
      "\u001b[0;31mTypeError\u001b[0m                                 Traceback (most recent call last)",
      "\u001b[1;32m/home/bart/git/ewatercycle-plugin/02_ewatercycle_local_model.ipynb Cell 7\u001b[0m line \u001b[0;36m1\n\u001b[0;32m----> <a href='vscode-notebook-cell:/home/bart/git/ewatercycle-plugin/02_ewatercycle_local_model.ipynb#W6sZmlsZQ%3D%3D?line=0'>1</a>\u001b[0m model\u001b[39m.\u001b[39;49mget_value(\u001b[39m\"\u001b[39;49m\u001b[39mdischarge\u001b[39;49m\u001b[39m\"\u001b[39;49m)\n",
      "File \u001b[0;32m~/git/ewatercycle/src/ewatercycle/base/model.py:185\u001b[0m, in \u001b[0;36meWaterCycleModel.get_value\u001b[0;34m(self, name)\u001b[0m\n\u001b[1;32m    179\u001b[0m \u001b[39m\u001b[39m\u001b[39m\"\"\"Get a copy of values of the given variable.\u001b[39;00m\n\u001b[1;32m    180\u001b[0m \n\u001b[1;32m    181\u001b[0m \u001b[39mArgs:\u001b[39;00m\n\u001b[1;32m    182\u001b[0m \u001b[39m    name: Name of variable\u001b[39;00m\n\u001b[1;32m    183\u001b[0m \u001b[39m\"\"\"\u001b[39;00m\n\u001b[1;32m    184\u001b[0m \u001b[39mif\u001b[39;00m \u001b[39misinstance\u001b[39m(\u001b[39mself\u001b[39m\u001b[39m.\u001b[39m_bmi, OptionalDestBmi):\n\u001b[0;32m--> 185\u001b[0m     \u001b[39mreturn\u001b[39;00m \u001b[39mself\u001b[39;49m\u001b[39m.\u001b[39;49m_bmi\u001b[39m.\u001b[39;49mget_value(name)\n\u001b[1;32m    186\u001b[0m dest \u001b[39m=\u001b[39m reserve_values(\u001b[39mself\u001b[39m\u001b[39m.\u001b[39m_bmi, name)\n\u001b[1;32m    187\u001b[0m \u001b[39mreturn\u001b[39;00m \u001b[39mself\u001b[39m\u001b[39m.\u001b[39m_bmi\u001b[39m.\u001b[39mget_value(name, dest)\n",
      "File \u001b[0;32m~/micromamba/envs/ewatercycle/lib/python3.10/site-packages/grpc4bmi/bmi_optionaldest.py:111\u001b[0m, in \u001b[0;36mOptionalDestBmi.get_value\u001b[0;34m(self, name, dest)\u001b[0m\n\u001b[1;32m    109\u001b[0m \u001b[39mif\u001b[39;00m dest \u001b[39mis\u001b[39;00m \u001b[39mNone\u001b[39;00m:\n\u001b[1;32m    110\u001b[0m     dest \u001b[39m=\u001b[39m reserve_values(\u001b[39mself\u001b[39m\u001b[39m.\u001b[39morigin, name)\n\u001b[0;32m--> 111\u001b[0m \u001b[39mreturn\u001b[39;00m \u001b[39mself\u001b[39;49m\u001b[39m.\u001b[39;49morigin\u001b[39m.\u001b[39;49mget_value(name, dest)\n",
      "\u001b[0;31mTypeError\u001b[0m: LeakyBucketLumpedBmi.get_value() takes 2 positional arguments but 3 were given"
     ]
    }
   ],
   "source": [
    "model.get_value(\"discharge\")"
   ]
  },
  {
   "cell_type": "code",
   "execution_count": null,
   "metadata": {},
   "outputs": [],
   "source": []
  }
 ],
 "metadata": {
  "kernelspec": {
   "display_name": "Python 3",
   "language": "python",
   "name": "python3"
  },
  "language_info": {
   "codemirror_mode": {
    "name": "ipython",
    "version": 3
   },
   "file_extension": ".py",
   "mimetype": "text/x-python",
   "name": "python",
   "nbconvert_exporter": "python",
   "pygments_lexer": "ipython3",
   "version": "3.10.0"
  },
  "orig_nbformat": 4
 },
 "nbformat": 4,
 "nbformat_minor": 2
}
