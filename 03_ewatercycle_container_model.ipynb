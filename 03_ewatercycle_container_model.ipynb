{
 "cells": [
  {
   "cell_type": "code",
   "execution_count": 1,
   "metadata": {},
   "outputs": [
    {
     "name": "stderr",
     "output_type": "stream",
     "text": [
      "hwloc/linux: Ignoring PCI device with non-16bit domain.\n",
      "Pass --enable-32bits-pci-domain to configure to support such devices\n",
      "(warning: it would break the library ABI, don't enable unless really needed).\n",
      "/home/bart/micromamba/envs/ewatercycle/lib/python3.10/site-packages/esmvalcore/experimental/_warnings.py:13: UserWarning: \n",
      "  Thank you for trying out the new ESMValCore API.\n",
      "  Note that this API is experimental and may be subject to change.\n",
      "  More info: https://github.com/ESMValGroup/ESMValCore/issues/498\n"
     ]
    }
   ],
   "source": [
    "from ewatercycle.models import LeakyBucket"
   ]
  },
  {
   "cell_type": "code",
   "execution_count": 2,
   "metadata": {},
   "outputs": [
    {
     "name": "stderr",
     "output_type": "stream",
     "text": [
      "WARNING:esmvalcore.config._dask:Using the Dask basic scheduler. This may lead to slow computations and out-of-memory errors. Note that the basic scheduler may still be the best choice for preprocessor functions that are not lazy. In that case, you can safely ignore this warning. See https://docs.esmvaltool.org/projects/ESMValCore/en/latest/quickstart/configure.html#dask-distributed-configuration for more information. \n"
     ]
    }
   ],
   "source": [
    "from ewatercycle.base.forcing import GenericLumpedForcing\n",
    "import ewatercycle\n",
    "from pathlib import Path\n",
    "import numpy as np\n",
    "\n",
    "shape = Path(ewatercycle.__file__).parent / \"testing/data/Rhine/Rhine.shp\"\n",
    "\n",
    "cmip_dataset = {\n",
    "    \"dataset\": \"EC-Earth3\",\n",
    "    \"project\": \"CMIP6\",\n",
    "    \"grid\": \"gr\",\n",
    "    \"exp\": [\"historical\",],\n",
    "    \"ensemble\": \"r6i1p1f1\",\n",
    "}\n",
    "\n",
    "forcing = GenericLumpedForcing.generate(\n",
    "    dataset=cmip_dataset,\n",
    "    start_time=\"2000-01-01T00:00:00Z\",\n",
    "    end_time=\"2000-12-31T00:00:00Z\",\n",
    "    shape=shape.absolute(),\n",
    ")"
   ]
  },
  {
   "cell_type": "code",
   "execution_count": 3,
   "metadata": {},
   "outputs": [
    {
     "ename": "KeyboardInterrupt",
     "evalue": "",
     "output_type": "error",
     "traceback": [
      "\u001b[0;31m---------------------------------------------------------------------------\u001b[0m",
      "\u001b[0;31mKeyboardInterrupt\u001b[0m                         Traceback (most recent call last)",
      "\u001b[1;32m/home/bart/git/ewatercycle-plugin/03_ewatercycle_container_model.ipynb Cell 3\u001b[0m line \u001b[0;36m2\n\u001b[1;32m      <a href='vscode-notebook-cell:/home/bart/git/ewatercycle-plugin/03_ewatercycle_container_model.ipynb#W1sZmlsZQ%3D%3D?line=0'>1</a>\u001b[0m model \u001b[39m=\u001b[39m LeakyBucket(forcing\u001b[39m=\u001b[39mforcing)\n\u001b[0;32m----> <a href='vscode-notebook-cell:/home/bart/git/ewatercycle-plugin/03_ewatercycle_container_model.ipynb#W1sZmlsZQ%3D%3D?line=1'>2</a>\u001b[0m model\u001b[39m.\u001b[39;49msetup(leakiness\u001b[39m=\u001b[39;49m\u001b[39m0.10\u001b[39;49m)\n",
      "File \u001b[0;32m~/git/ewatercycle/src/ewatercycle/base/model.py:117\u001b[0m, in \u001b[0;36meWaterCycleModel.setup\u001b[0;34m(self, cfg_dir, **kwargs)\u001b[0m\n\u001b[1;32m    115\u001b[0m \u001b[39mself\u001b[39m\u001b[39m.\u001b[39m_cfg_dir: Path \u001b[39m=\u001b[39m \u001b[39mself\u001b[39m\u001b[39m.\u001b[39m_make_cfg_dir(cfg_dir)\n\u001b[1;32m    116\u001b[0m \u001b[39mself\u001b[39m\u001b[39m.\u001b[39m_cfg_file: Path \u001b[39m=\u001b[39m \u001b[39mself\u001b[39m\u001b[39m.\u001b[39m_make_cfg_file(\u001b[39m*\u001b[39m\u001b[39m*\u001b[39mkwargs)\n\u001b[0;32m--> 117\u001b[0m \u001b[39mself\u001b[39m\u001b[39m.\u001b[39m_bmi \u001b[39m=\u001b[39m \u001b[39mself\u001b[39;49m\u001b[39m.\u001b[39;49m_make_bmi_instance()\n\u001b[1;32m    119\u001b[0m \u001b[39mreturn\u001b[39;00m \u001b[39mstr\u001b[39m(\u001b[39mself\u001b[39m\u001b[39m.\u001b[39m_cfg_file), \u001b[39mstr\u001b[39m(\u001b[39mself\u001b[39m\u001b[39m.\u001b[39m_cfg_dir)\n",
      "File \u001b[0;32m~/git/ewatercycle/src/ewatercycle/base/model.py:444\u001b[0m, in \u001b[0;36mContainerizedModel._make_bmi_instance\u001b[0;34m(self)\u001b[0m\n\u001b[1;32m    441\u001b[0m \u001b[39mif\u001b[39;00m \u001b[39mself\u001b[39m\u001b[39m.\u001b[39mforcing:\n\u001b[1;32m    442\u001b[0m     \u001b[39mself\u001b[39m\u001b[39m.\u001b[39m_additional_input_dirs\u001b[39m.\u001b[39mappend(\u001b[39mstr\u001b[39m(\u001b[39mself\u001b[39m\u001b[39m.\u001b[39mforcing\u001b[39m.\u001b[39mdirectory))\n\u001b[0;32m--> 444\u001b[0m \u001b[39mreturn\u001b[39;00m start_container(\n\u001b[1;32m    445\u001b[0m     image\u001b[39m=\u001b[39;49m\u001b[39mself\u001b[39;49m\u001b[39m.\u001b[39;49mbmi_image,\n\u001b[1;32m    446\u001b[0m     work_dir\u001b[39m=\u001b[39;49m\u001b[39mself\u001b[39;49m\u001b[39m.\u001b[39;49m_cfg_dir,\n\u001b[1;32m    447\u001b[0m     input_dirs\u001b[39m=\u001b[39;49m\u001b[39mself\u001b[39;49m\u001b[39m.\u001b[39;49m_additional_input_dirs,\n\u001b[1;32m    448\u001b[0m     timeout\u001b[39m=\u001b[39;49m\u001b[39m300\u001b[39;49m,\n\u001b[1;32m    449\u001b[0m )\n",
      "File \u001b[0;32m~/git/ewatercycle/src/ewatercycle/container.py:177\u001b[0m, in \u001b[0;36mstart_container\u001b[0;34m(work_dir, image, input_dirs, image_port, timeout, delay, wrappers)\u001b[0m\n\u001b[1;32m    174\u001b[0m     input_dirs \u001b[39m=\u001b[39m []\n\u001b[1;32m    176\u001b[0m \u001b[39mif\u001b[39;00m engine \u001b[39m==\u001b[39m \u001b[39m\"\u001b[39m\u001b[39mdocker\u001b[39m\u001b[39m\"\u001b[39m:\n\u001b[0;32m--> 177\u001b[0m     bmi \u001b[39m=\u001b[39m start_docker_container(\n\u001b[1;32m    178\u001b[0m         work_dir, image, input_dirs, image_port, timeout, delay\n\u001b[1;32m    179\u001b[0m     )\n\u001b[1;32m    180\u001b[0m \u001b[39melif\u001b[39;00m engine \u001b[39m==\u001b[39m \u001b[39m\"\u001b[39m\u001b[39mapptainer\u001b[39m\u001b[39m\"\u001b[39m:\n\u001b[1;32m    181\u001b[0m     bmi \u001b[39m=\u001b[39m start_apptainer_container(\n\u001b[1;32m    182\u001b[0m         work_dir,\n\u001b[1;32m    183\u001b[0m         image,\n\u001b[0;32m   (...)\u001b[0m\n\u001b[1;32m    186\u001b[0m         delay,\n\u001b[1;32m    187\u001b[0m     )\n",
      "File \u001b[0;32m~/git/ewatercycle/src/ewatercycle/container.py:268\u001b[0m, in \u001b[0;36mstart_docker_container\u001b[0;34m(work_dir, image, input_dirs, image_port, timeout, delay)\u001b[0m\n\u001b[1;32m    251\u001b[0m \u001b[39m\u001b[39m\u001b[39m\"\"\"Start Docker container with model inside.\u001b[39;00m\n\u001b[1;32m    252\u001b[0m \n\u001b[1;32m    253\u001b[0m \u001b[39mArgs:\u001b[39;00m\n\u001b[0;32m   (...)\u001b[0m\n\u001b[1;32m    265\u001b[0m \u001b[39m    Bmi object which wraps the container.\u001b[39;00m\n\u001b[1;32m    266\u001b[0m \u001b[39m\"\"\"\u001b[39;00m\n\u001b[1;32m    267\u001b[0m \u001b[39mtry\u001b[39;00m:\n\u001b[0;32m--> 268\u001b[0m     \u001b[39mreturn\u001b[39;00m BmiClientDocker(\n\u001b[1;32m    269\u001b[0m         image\u001b[39m=\u001b[39;49mimage\u001b[39m.\u001b[39;49mdocker_url,\n\u001b[1;32m    270\u001b[0m         image_port\u001b[39m=\u001b[39;49mimage_port,\n\u001b[1;32m    271\u001b[0m         work_dir\u001b[39m=\u001b[39;49m\u001b[39mstr\u001b[39;49m(work_dir),\n\u001b[1;32m    272\u001b[0m         input_dirs\u001b[39m=\u001b[39;49minput_dirs,\n\u001b[1;32m    273\u001b[0m         timeout\u001b[39m=\u001b[39;49mtimeout,\n\u001b[1;32m    274\u001b[0m         delay\u001b[39m=\u001b[39;49mdelay,\n\u001b[1;32m    275\u001b[0m     )\n\u001b[1;32m    276\u001b[0m \u001b[39mexcept\u001b[39;00m FutureTimeoutError \u001b[39mas\u001b[39;00m exc:\n\u001b[1;32m    277\u001b[0m     \u001b[39m# https://github.com/eWaterCycle/grpc4bmi/issues/95\u001b[39;00m\n\u001b[1;32m    278\u001b[0m     \u001b[39m# https://github.com/eWaterCycle/grpc4bmi/issues/100\u001b[39;00m\n\u001b[1;32m    279\u001b[0m     \u001b[39mraise\u001b[39;00m \u001b[39mTimeoutError\u001b[39;00m(\n\u001b[1;32m    280\u001b[0m         \u001b[39m\"\u001b[39m\u001b[39mCouldn\u001b[39m\u001b[39m'\u001b[39m\u001b[39mt spawn container within allocated time limit \u001b[39m\u001b[39m\"\u001b[39m\n\u001b[1;32m    281\u001b[0m         \u001b[39mf\u001b[39m\u001b[39m\"\u001b[39m\u001b[39m(\u001b[39m\u001b[39m{\u001b[39;00mtimeout\u001b[39m}\u001b[39;00m\u001b[39m seconds). You may try pulling the docker image with\u001b[39m\u001b[39m\"\u001b[39m\n\u001b[1;32m    282\u001b[0m         \u001b[39mf\u001b[39m\u001b[39m\"\u001b[39m\u001b[39m `docker pull \u001b[39m\u001b[39m{\u001b[39;00mimage\u001b[39m}\u001b[39;00m\u001b[39m` and then try again.\u001b[39m\u001b[39m\"\u001b[39m\n\u001b[1;32m    283\u001b[0m     ) \u001b[39mfrom\u001b[39;00m \u001b[39mexc\u001b[39;00m\n",
      "File \u001b[0;32m~/micromamba/envs/ewatercycle/lib/python3.10/site-packages/grpc4bmi/bmi_client_docker.py:102\u001b[0m, in \u001b[0;36m__init__\u001b[0;34m(self, image, work_dir, image_port, host, input_dirs, user, remove, delay, timeout)\u001b[0m\n\u001b[1;32m     99\u001b[0m         msg \u001b[39m=\u001b[39m \u001b[39mf\u001b[39m\u001b[39m'\u001b[39m\u001b[39mFailed to start Docker container with image \u001b[39m\u001b[39m{\u001b[39;00mimage\u001b[39m}\u001b[39;00m\u001b[39m, Container log: \u001b[39m\u001b[39m{\u001b[39;00mlogs\u001b[39m}\u001b[39;00m\u001b[39m'\u001b[39m\n\u001b[1;32m    100\u001b[0m         \u001b[39mraise\u001b[39;00m DeadContainerException(msg, exitcode, logs)\n\u001b[0;32m--> 102\u001b[0m \u001b[39msuper\u001b[39m(BmiClientDocker, \u001b[39mself\u001b[39m)\u001b[39m.\u001b[39m\u001b[39m__init__\u001b[39m(BmiClient\u001b[39m.\u001b[39mcreate_grpc_channel(port\u001b[39m=\u001b[39mport, host\u001b[39m=\u001b[39mhost), timeout\u001b[39m=\u001b[39mtimeout)\n",
      "File \u001b[0;32m~/micromamba/envs/ewatercycle/lib/python3.10/site-packages/grpc4bmi/bmi_grpc_client.py:75\u001b[0m, in \u001b[0;36mBmiClient.__init__\u001b[0;34m(self, channel, timeout, stub)\u001b[0m\n\u001b[1;32m     73\u001b[0m     \u001b[39mself\u001b[39m\u001b[39m.\u001b[39mstub \u001b[39m=\u001b[39m bmi_pb2_grpc\u001b[39m.\u001b[39mBmiServiceStub(c)\n\u001b[1;32m     74\u001b[0m     future \u001b[39m=\u001b[39m grpc\u001b[39m.\u001b[39mchannel_ready_future(c)\n\u001b[0;32m---> 75\u001b[0m     future\u001b[39m.\u001b[39;49mresult(timeout\u001b[39m=\u001b[39;49mtimeout)\n\u001b[1;32m     76\u001b[0m \u001b[39melse\u001b[39;00m:\n\u001b[1;32m     77\u001b[0m     \u001b[39mself\u001b[39m\u001b[39m.\u001b[39mstub \u001b[39m=\u001b[39m stub\n",
      "File \u001b[0;32m~/micromamba/envs/ewatercycle/lib/python3.10/site-packages/grpc/_utilities.py:162\u001b[0m, in \u001b[0;36m_ChannelReadyFuture.result\u001b[0;34m(self, timeout)\u001b[0m\n\u001b[1;32m    161\u001b[0m \u001b[39mdef\u001b[39;00m \u001b[39mresult\u001b[39m(\u001b[39mself\u001b[39m, timeout: Optional[\u001b[39mfloat\u001b[39m] \u001b[39m=\u001b[39m \u001b[39mNone\u001b[39;00m) \u001b[39m-\u001b[39m\u001b[39m>\u001b[39m \u001b[39mNone\u001b[39;00m:\n\u001b[0;32m--> 162\u001b[0m     \u001b[39mself\u001b[39;49m\u001b[39m.\u001b[39;49m_block(timeout)\n",
      "File \u001b[0;32m~/micromamba/envs/ewatercycle/lib/python3.10/site-packages/grpc/_utilities.py:108\u001b[0m, in \u001b[0;36m_ChannelReadyFuture._block\u001b[0;34m(self, timeout)\u001b[0m\n\u001b[1;32m    106\u001b[0m     \u001b[39mraise\u001b[39;00m grpc\u001b[39m.\u001b[39mFutureTimeoutError()\n\u001b[1;32m    107\u001b[0m \u001b[39melse\u001b[39;00m:\n\u001b[0;32m--> 108\u001b[0m     \u001b[39mself\u001b[39;49m\u001b[39m.\u001b[39;49m_condition\u001b[39m.\u001b[39;49mwait(timeout\u001b[39m=\u001b[39;49mremaining)\n",
      "File \u001b[0;32m~/micromamba/envs/ewatercycle/lib/python3.10/threading.py:324\u001b[0m, in \u001b[0;36mCondition.wait\u001b[0;34m(self, timeout)\u001b[0m\n\u001b[1;32m    322\u001b[0m \u001b[39melse\u001b[39;00m:\n\u001b[1;32m    323\u001b[0m     \u001b[39mif\u001b[39;00m timeout \u001b[39m>\u001b[39m \u001b[39m0\u001b[39m:\n\u001b[0;32m--> 324\u001b[0m         gotit \u001b[39m=\u001b[39m waiter\u001b[39m.\u001b[39;49macquire(\u001b[39mTrue\u001b[39;49;00m, timeout)\n\u001b[1;32m    325\u001b[0m     \u001b[39melse\u001b[39;00m:\n\u001b[1;32m    326\u001b[0m         gotit \u001b[39m=\u001b[39m waiter\u001b[39m.\u001b[39macquire(\u001b[39mFalse\u001b[39;00m)\n",
      "\u001b[0;31mKeyboardInterrupt\u001b[0m: "
     ]
    }
   ],
   "source": [
    "model = LeakyBucket(forcing=forcing)\n",
    "model.setup(leakiness=0.10)"
   ]
  },
  {
   "cell_type": "code",
   "execution_count": null,
   "metadata": {},
   "outputs": [
    {
     "ename": "TypeError",
     "evalue": "eWaterCycleModel.initialize() missing 1 required positional argument: 'config_file'",
     "output_type": "error",
     "traceback": [
      "\u001b[0;31m---------------------------------------------------------------------------\u001b[0m",
      "\u001b[0;31mTypeError\u001b[0m                                 Traceback (most recent call last)",
      "\u001b[1;32m/home/bart/git/ewatercycle-plugin/03_ewatercycle_container_model.ipynb Cell 4\u001b[0m line \u001b[0;36m1\n\u001b[0;32m----> <a href='vscode-notebook-cell:/home/bart/git/ewatercycle-plugin/03_ewatercycle_container_model.ipynb#W5sZmlsZQ%3D%3D?line=0'>1</a>\u001b[0m model\u001b[39m.\u001b[39;49minitialize()\n",
      "\u001b[0;31mTypeError\u001b[0m: eWaterCycleModel.initialize() missing 1 required positional argument: 'config_file'"
     ]
    }
   ],
   "source": [
    "model.get_component_name()"
   ]
  },
  {
   "cell_type": "code",
   "execution_count": null,
   "metadata": {},
   "outputs": [],
   "source": []
  }
 ],
 "metadata": {
  "kernelspec": {
   "display_name": "Python 3",
   "language": "python",
   "name": "python3"
  },
  "language_info": {
   "codemirror_mode": {
    "name": "ipython",
    "version": 3
   },
   "file_extension": ".py",
   "mimetype": "text/x-python",
   "name": "python",
   "nbconvert_exporter": "python",
   "pygments_lexer": "ipython3",
   "version": "3.10.0"
  },
  "orig_nbformat": 4
 },
 "nbformat": 4,
 "nbformat_minor": 2
}
